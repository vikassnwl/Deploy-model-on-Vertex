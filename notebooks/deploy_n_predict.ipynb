{
 "cells": [
  {
   "cell_type": "code",
   "execution_count": 1,
   "metadata": {},
   "outputs": [],
   "source": [
    "from google.cloud import storage"
   ]
  },
  {
   "cell_type": "code",
   "execution_count": 2,
   "metadata": {},
   "outputs": [],
   "source": [
    "project_id = \"nifty-quanta-390607\"\n",
    "bucket_name = \"awesome_mnist_bucket\"\n",
    "location = \"us-central1\""
   ]
  },
  {
   "cell_type": "markdown",
   "metadata": {},
   "source": [
    "### creating bucket"
   ]
  },
  {
   "cell_type": "code",
   "execution_count": null,
   "metadata": {},
   "outputs": [],
   "source": [
    "storage_client = storage.Client(project=project_id)\n",
    "bucket = storage_client.create_bucket(bucket_name, location=location)"
   ]
  },
  {
   "cell_type": "code",
   "execution_count": 15,
   "metadata": {},
   "outputs": [],
   "source": [
    "from pathlib import Path\n",
    "\n",
    "def upload_directory(bucket, dirpath):\n",
    "    dirpath = Path(dirpath)\n",
    "    for filepath in dirpath.glob(\"**/*\"):\n",
    "        if filepath.is_file():\n",
    "            blob = bucket.blob(filepath.relative_to(dirpath.parent).as_posix())\n",
    "            blob.upload_from_filename(filepath)"
   ]
  },
  {
   "cell_type": "markdown",
   "metadata": {},
   "source": [
    "### uploading saved model to bucket"
   ]
  },
  {
   "cell_type": "code",
   "execution_count": 30,
   "metadata": {},
   "outputs": [],
   "source": [
    "upload_directory(bucket, \"my_mnist_model\")"
   ]
  },
  {
   "cell_type": "markdown",
   "metadata": {},
   "source": [
    "### creating model registry"
   ]
  },
  {
   "cell_type": "code",
   "execution_count": 14,
   "metadata": {},
   "outputs": [],
   "source": [
    "from google.cloud import aiplatform"
   ]
  },
  {
   "cell_type": "code",
   "execution_count": 15,
   "metadata": {},
   "outputs": [],
   "source": [
    "server_image = \"gcr.io/cloud-aiplatform/prediction/tf2-gpu.2-8:latest\""
   ]
  },
  {
   "cell_type": "code",
   "execution_count": 16,
   "metadata": {},
   "outputs": [],
   "source": [
    "aiplatform.init(project=project_id, location=location)"
   ]
  },
  {
   "cell_type": "code",
   "execution_count": 17,
   "metadata": {},
   "outputs": [
    {
     "name": "stdout",
     "output_type": "stream",
     "text": [
      "Creating Model\n",
      "Create Model backing LRO: projects/83375718718/locations/us-central1/models/4606893247241912320/operations/5984913541155520512\n",
      "Model created. Resource name: projects/83375718718/locations/us-central1/models/4606893247241912320@1\n",
      "To use this Model in another session:\n",
      "model = aiplatform.Model('projects/83375718718/locations/us-central1/models/4606893247241912320@1')\n"
     ]
    }
   ],
   "source": [
    "mnist_model = aiplatform.Model.upload(\n",
    "    display_name=\"mnist\",\n",
    "    artifact_uri=f\"gs://{bucket_name}/my_mnist_model/0001\",\n",
    "    serving_container_image_uri=server_image\n",
    ")"
   ]
  },
  {
   "cell_type": "markdown",
   "metadata": {},
   "source": [
    "### creating prediction endpoint"
   ]
  },
  {
   "cell_type": "code",
   "execution_count": 18,
   "metadata": {},
   "outputs": [
    {
     "name": "stdout",
     "output_type": "stream",
     "text": [
      "Creating Endpoint\n",
      "Create Endpoint backing LRO: projects/83375718718/locations/us-central1/endpoints/1922088162352431104/operations/5380023816204320768\n",
      "Endpoint created. Resource name: projects/83375718718/locations/us-central1/endpoints/1922088162352431104\n",
      "To use this Endpoint in another session:\n",
      "endpoint = aiplatform.Endpoint('projects/83375718718/locations/us-central1/endpoints/1922088162352431104')\n"
     ]
    }
   ],
   "source": [
    "endpoint = aiplatform.Endpoint.create(display_name=\"mnist-endpoint\")"
   ]
  },
  {
   "cell_type": "markdown",
   "metadata": {},
   "source": [
    "### fetch model (optional)"
   ]
  },
  {
   "cell_type": "code",
   "execution_count": 4,
   "metadata": {},
   "outputs": [
    {
     "name": "stdout",
     "output_type": "stream",
     "text": [
      "Model Name: mnist, Model ID: 4606893247241912320\n"
     ]
    }
   ],
   "source": [
    "from google.cloud import aiplatform\n",
    "\n",
    "# Initialize the AI Platform with your project and location\n",
    "aiplatform.init(project=project_id, location=location)\n",
    "\n",
    "# List all models in the project\n",
    "models = aiplatform.Model.list()\n",
    "\n",
    "# Print model IDs\n",
    "for model in models:\n",
    "    print(f\"Model Name: {model.display_name}, Model ID: {model.name}\")\n"
   ]
  },
  {
   "cell_type": "code",
   "execution_count": 9,
   "metadata": {},
   "outputs": [],
   "source": [
    "model_id = \"4606893247241912320\"\n",
    "mnist_model = aiplatform.Model(model_name=f\"projects/{project_id}/locations/{location}/models/{model_id}\")"
   ]
  },
  {
   "cell_type": "markdown",
   "metadata": {},
   "source": [
    "### fetch endpoint (optional)"
   ]
  },
  {
   "cell_type": "code",
   "execution_count": 6,
   "metadata": {},
   "outputs": [
    {
     "name": "stdout",
     "output_type": "stream",
     "text": [
      "Endpoint Name: mnist-endpoint, Endpoint ID: 1922088162352431104\n"
     ]
    }
   ],
   "source": [
    "from google.cloud import aiplatform\n",
    "\n",
    "# Initialize the AI Platform with your project and location\n",
    "aiplatform.init(project=project_id, location=location)\n",
    "\n",
    "# List all endpoints in the project\n",
    "endpoints = aiplatform.Endpoint.list()\n",
    "\n",
    "# Print endpoint IDs\n",
    "for endpoint in endpoints:\n",
    "    print(f\"Endpoint Name: {endpoint.display_name}, Endpoint ID: {endpoint.name}\")\n"
   ]
  },
  {
   "cell_type": "code",
   "execution_count": 7,
   "metadata": {},
   "outputs": [],
   "source": [
    "endpoint_id = 1922088162352431104\n",
    "endpoint = aiplatform.Endpoint(endpoint_name=f\"projects/{project_id}/locations/{location}/endpoints/{endpoint_id}\")"
   ]
  },
  {
   "cell_type": "markdown",
   "metadata": {},
   "source": [
    "### Deploying model to the endpoint"
   ]
  },
  {
   "cell_type": "code",
   "execution_count": 11,
   "metadata": {},
   "outputs": [
    {
     "name": "stdout",
     "output_type": "stream",
     "text": [
      "Deploying Model projects/83375718718/locations/us-central1/models/4606893247241912320 to Endpoint : projects/83375718718/locations/us-central1/endpoints/1922088162352431104\n",
      "Deploy Endpoint model backing LRO: projects/83375718718/locations/us-central1/endpoints/1922088162352431104/operations/4395916928879689728\n",
      "Endpoint model deployed. Resource name: projects/83375718718/locations/us-central1/endpoints/1922088162352431104\n"
     ]
    }
   ],
   "source": [
    "endpoint.deploy(\n",
    "    mnist_model,\n",
    "    min_replica_count=1,\n",
    "    # max_replica_count=5,  # The following quotas are exceeded: CustomModelServingP4GPUsPerProjectPerRegion\n",
    "    machine_type=\"n1-standard-4\",\n",
    "    accelerator_type=\"NVIDIA_TESLA_P4\",\n",
    "    accelerator_count=1\n",
    ")"
   ]
  },
  {
   "cell_type": "markdown",
   "metadata": {},
   "source": [
    "### making predictions"
   ]
  },
  {
   "cell_type": "code",
   "execution_count": 14,
   "metadata": {},
   "outputs": [],
   "source": [
    "import tensorflow as tf\n",
    "(X_train, y_train), (X_test, y_test) = tf.keras.datasets.mnist.load_data()"
   ]
  },
  {
   "cell_type": "code",
   "execution_count": 20,
   "metadata": {},
   "outputs": [],
   "source": [
    "import numpy as np\n",
    "X_new = np.expand_dims(X_test[:3]/255., axis=-1)\n",
    "response = endpoint.predict(instances=X_new.tolist())"
   ]
  },
  {
   "cell_type": "code",
   "execution_count": 21,
   "metadata": {},
   "outputs": [
    {
     "data": {
      "text/plain": [
       "array([[0.  , 0.  , 0.  , 0.  , 0.  , 0.  , 0.  , 1.  , 0.  , 0.  ],\n",
       "       [0.  , 0.  , 1.  , 0.  , 0.  , 0.  , 0.  , 0.  , 0.  , 0.  ],\n",
       "       [0.  , 0.99, 0.  , 0.  , 0.  , 0.  , 0.  , 0.  , 0.  , 0.  ]])"
      ]
     },
     "execution_count": 21,
     "metadata": {},
     "output_type": "execute_result"
    }
   ],
   "source": [
    "np.round(response.predictions, 2)"
   ]
  },
  {
   "cell_type": "markdown",
   "metadata": {},
   "source": [
    "### undeploying model and deleting endpoint"
   ]
  },
  {
   "cell_type": "code",
   "execution_count": 22,
   "metadata": {},
   "outputs": [
    {
     "name": "stdout",
     "output_type": "stream",
     "text": [
      "Undeploying Endpoint model: projects/83375718718/locations/us-central1/endpoints/1922088162352431104\n",
      "Undeploy Endpoint model backing LRO: projects/83375718718/locations/us-central1/endpoints/1922088162352431104/operations/6217622978151055360\n",
      "Endpoint model undeployed. Resource name: projects/83375718718/locations/us-central1/endpoints/1922088162352431104\n",
      "Deleting Endpoint : projects/83375718718/locations/us-central1/endpoints/1922088162352431104\n",
      "Endpoint deleted. . Resource name: projects/83375718718/locations/us-central1/endpoints/1922088162352431104\n",
      "Deleting Endpoint resource: projects/83375718718/locations/us-central1/endpoints/1922088162352431104\n",
      "Delete Endpoint backing LRO: projects/83375718718/locations/us-central1/operations/4114441952169033728\n",
      "Endpoint resource projects/83375718718/locations/us-central1/endpoints/1922088162352431104 deleted.\n"
     ]
    }
   ],
   "source": [
    "endpoint.undeploy_all()  # undeploy all models from the endpoint\n",
    "endpoint.delete()"
   ]
  },
  {
   "cell_type": "code",
   "execution_count": null,
   "metadata": {},
   "outputs": [],
   "source": []
  }
 ],
 "metadata": {
  "kernelspec": {
   "display_name": "env",
   "language": "python",
   "name": "python3"
  },
  "language_info": {
   "codemirror_mode": {
    "name": "ipython",
    "version": 3
   },
   "file_extension": ".py",
   "mimetype": "text/x-python",
   "name": "python",
   "nbconvert_exporter": "python",
   "pygments_lexer": "ipython3",
   "version": "3.10.14"
  }
 },
 "nbformat": 4,
 "nbformat_minor": 2
}
